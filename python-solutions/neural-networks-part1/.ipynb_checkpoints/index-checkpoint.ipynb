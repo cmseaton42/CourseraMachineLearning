{
 "cells": [
  {
   "cell_type": "code",
   "execution_count": 1,
   "metadata": {},
   "outputs": [],
   "source": [
    "import numpy as np\n",
    "import matplotlib.pyplot as plt\n",
    "import seaborn as sns\n",
    "\n",
    "from scipy.optimize import minimize\n",
    "\n",
    "# load MATLAB files\n",
    "from scipy.io import loadmat\n",
    "\n",
    "from sklearn.preprocessing import PolynomialFeatures"
   ]
  },
  {
   "cell_type": "code",
   "execution_count": 2,
   "metadata": {},
   "outputs": [],
   "source": [
    "def sigmoid(z):\n",
    "    return (1 / (1 + np.exp(-z)))"
   ]
  },
  {
   "cell_type": "code",
   "execution_count": 3,
   "metadata": {},
   "outputs": [],
   "source": [
    "def costFunctionReg(theta, X, y, reg):\n",
    "    m = len(X)\n",
    "    theta = np.c_[theta]\n",
    "    \n",
    "    z = X.dot(theta) # X * theta\n",
    "    h = sigmoid(z) # Hypothesis\n",
    "    \n",
    "    cost = (1.0 / m) * (-y.T.dot(np.log(h)) - (1 - y).T.dot(np.log(1 - h)))\n",
    "    cost += (reg / (2 * m)) * (theta.T.dot(theta) - theta[0] ** 2)\n",
    "    \n",
    "    return cost.flatten()[0]"
   ]
  },
  {
   "cell_type": "code",
   "execution_count": 4,
   "metadata": {},
   "outputs": [],
   "source": [
    "def gradientReg(theta, X, y, reg):\n",
    "    m = len(X)\n",
    "    theta = np.c_[theta]\n",
    "    \n",
    "    zeroFirst = np.ones((len(theta), 1))\n",
    "    zeroFirst[0, 0] = 0\n",
    "    \n",
    "    z = X.dot(theta) # X * theta\n",
    "    h = sigmoid(z) # Hypothesis\n",
    "    \n",
    "    grad = (1.0 / m) * (X.T.dot(h - y))\n",
    "    grad += (reg / m) * theta * zeroFirst\n",
    "    \n",
    "    return grad.flatten()"
   ]
  },
  {
   "cell_type": "code",
   "execution_count": 5,
   "metadata": {},
   "outputs": [],
   "source": [
    "def oneVsAll(X, y, num_labels, reg):\n",
    "    init_theta = np.zeros(X.shape[1])\n",
    "    THETA = np.zeros((num_labels, X.shape[1]))\n",
    "    \n",
    "    opt = {\n",
    "        'maxiter': 400\n",
    "    }\n",
    "    \n",
    "    for i in range(1,num_labels+1):\n",
    "        result = minimize(\n",
    "            costFunctionReg, \n",
    "            init_theta, \n",
    "            args=(X,(y == i)*1,reg), # (y == 1) * 1 will return an array of 0s and 1s,\n",
    "            method=\"TNC\",            #     in order to filter the samples to only the \n",
    "            jac=gradientReg,         #     set for the current digit\n",
    "            options=opt\n",
    "        )\n",
    "\n",
    "        model = result.x\n",
    "        \n",
    "        THETA[i - 1] = model\n",
    "        \n",
    "    return THETA"
   ]
  },
  {
   "cell_type": "code",
   "execution_count": 6,
   "metadata": {},
   "outputs": [],
   "source": [
    "def predictOneVsAll(theta, X):\n",
    "    A = sigmoid(X.dot(theta.T))\n",
    "    return np.argmax(A, axis=1) + 1"
   ]
  },
  {
   "cell_type": "code",
   "execution_count": 7,
   "metadata": {},
   "outputs": [],
   "source": [
    "def predict(theta1, theta2, X):\n",
    "    A1 = np.c_[np.ones(X.shape[0]), X]\n",
    "    \n",
    "    A2 = sigmoid(A1.dot(theta1.T))\n",
    "    A2 = np.c_[np.ones(A2.shape[0]), A2]\n",
    "    \n",
    "    A3 = sigmoid(A2.dot(theta2.T))\n",
    "    \n",
    "    return np.argmax(A3, axis=1) + 1"
   ]
  },
  {
   "cell_type": "code",
   "execution_count": 8,
   "metadata": {},
   "outputs": [
    {
     "data": {
      "text/plain": [
       "dict_keys(['__header__', '__version__', '__globals__', 'X', 'y'])"
      ]
     },
     "execution_count": 8,
     "metadata": {},
     "output_type": "execute_result"
    }
   ],
   "source": [
    "# Load Raw Data\n",
    "data = loadmat('./data/ex3data1.mat')\n",
    "data.keys()"
   ]
  },
  {
   "cell_type": "code",
   "execution_count": 9,
   "metadata": {},
   "outputs": [
    {
     "name": "stdout",
     "output_type": "stream",
     "text": [
      "X Dim: (5000, 401)\n",
      "y Dim: (5000, 1)\n"
     ]
    }
   ],
   "source": [
    "# Initialize Variables\n",
    "y = data['y']\n",
    "\n",
    "X = np.c_[np.ones((data['X'].shape[0], 1)), data['X']]\n",
    "\n",
    "print('X Dim: {}'.format(X.shape))\n",
    "print('y Dim: {}'.format(y.shape))"
   ]
  },
  {
   "cell_type": "code",
   "execution_count": 10,
   "metadata": {},
   "outputs": [
    {
     "data": {
      "text/plain": [
       "<matplotlib.image.AxesImage at 0x1ebdf10c6a0>"
      ]
     },
     "execution_count": 10,
     "metadata": {},
     "output_type": "execute_result"
    },
    {
     "data": {
      "image/png": "[encoded data removed]",
      "text/plain": [
       "<Figure size 432x288 with 1 Axes>"
      ]
     },
     "metadata": {
      "needs_background": "light"
     },
     "output_type": "display_data"
    }
   ],
   "source": [
    "sampleIndex = np.random.choice(X.shape[0], 15);\n",
    "plt.imshow(X[sampleIndex,1:].reshape(-1,20).T)"
   ]
  },
  {
   "cell_type": "code",
   "execution_count": 12,
   "metadata": {},
   "outputs": [
    {
     "name": "stdout",
     "output_type": "stream",
     "text": [
      "Training Accuracy: 96.460 %\n",
      "Wall time: 3.87 s\n"
     ]
    }
   ],
   "source": [
    "%%time\n",
    "\n",
    "# One vs All Logistic Regression Performance\n",
    "theta = oneVsAll(X, y, 10, 0.1)\n",
    "\n",
    "prediction = predictOneVsAll(theta, X)\n",
    "\n",
    "print(\"Training Accuracy: {0:6.3f} %\".format(np.mean(prediction == y.flatten())*100))"
   ]
  },
  {
   "cell_type": "code",
   "execution_count": 14,
   "metadata": {},
   "outputs": [
    {
     "data": {
      "text/plain": [
       "dict_keys(['__header__', '__version__', '__globals__', 'Theta1', 'Theta2'])"
      ]
     },
     "execution_count": 14,
     "metadata": {},
     "output_type": "execute_result"
    }
   ],
   "source": [
    "# Load Raw Data\n",
    "data = loadmat('./data/ex3weights.mat')\n",
    "data.keys()"
   ]
  },
  {
   "cell_type": "code",
   "execution_count": 16,
   "metadata": {},
   "outputs": [
    {
     "name": "stdout",
     "output_type": "stream",
     "text": [
      "Training Accuracy: 97.520 %\n",
      "Wall time: 15 ms\n"
     ]
    }
   ],
   "source": [
    "%%time\n",
    "\n",
    "# Neural Network Performance\n",
    "Theta1 = data['Theta1']\n",
    "Theta2 = data['Theta2']\n",
    "\n",
    "prediction = predict(Theta1, Theta2, X[:, 1:])\n",
    "\n",
    "print(\"Training Accuracy: {0:6.3f} %\".format(np.mean(prediction == y.flatten())*100))"
   ]
  }
 ],
 "metadata": {
  "kernelspec": {
   "display_name": "Python 3",
   "language": "python",
   "name": "python3"
  },
  "language_info": {
   "codemirror_mode": {
    "name": "ipython",
    "version": 3
   },
   "file_extension": ".py",
   "mimetype": "text/x-python",
   "name": "python",
   "nbconvert_exporter": "python",
   "pygments_lexer": "ipython3",
   "version": "3.7.0"
  }
 },
 "nbformat": 4,
 "nbformat_minor": 2
}
