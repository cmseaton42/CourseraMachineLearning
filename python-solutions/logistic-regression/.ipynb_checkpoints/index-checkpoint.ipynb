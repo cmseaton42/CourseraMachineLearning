{
 "cells": [
  {
   "cell_type": "code",
   "execution_count": 1,
   "metadata": {},
   "outputs": [],
   "source": [
    "import numpy as np\n",
    "import matplotlib.pyplot as plt\n",
    "\n",
    "from scipy.optimize import minimize\n",
    "\n",
    "from sklearn.preprocessing import PolynomialFeatures"
   ]
  },
  {
   "cell_type": "code",
   "execution_count": 2,
   "metadata": {},
   "outputs": [],
   "source": [
    "def loaddata(file, delimeter = \",\"):\n",
    "    data = np.loadtxt(file, delimiter=delimeter)\n",
    "    print('Dimensions: ',data.shape)\n",
    "    print(data[0:5,:])\n",
    "    return(data)"
   ]
  },
  {
   "cell_type": "code",
   "execution_count": 3,
   "metadata": {},
   "outputs": [],
   "source": [
    "# Hypthosesis - Regression Fit Function\n",
    "def sigmoid(z):\n",
    "    return (1 / (1 + np.exp(-z)))"
   ]
  },
  {
   "cell_type": "code",
   "execution_count": 32,
   "metadata": {},
   "outputs": [],
   "source": [
    "# Cost Function\n",
    "def costFunction(theta, X, y):\n",
    "    m = len(X)\n",
    "    theta = np.c_[theta]\n",
    "    \n",
    "    z = X.dot(theta) # X * theta\n",
    "    h = sigmoid(z) # Hypothesis\n",
    "    \n",
    "    cost = (1.0 / m) * (-y.T.dot(np.log(h)) - (1 - y).T.dot(np.log(1 - h)))\n",
    "    \n",
    "    return cost.flatten()[0]"
   ]
  },
  {
   "cell_type": "code",
   "execution_count": 82,
   "metadata": {},
   "outputs": [],
   "source": [
    "def gradient(theta, X, y):\n",
    "    m = len(X)\n",
    "    theta = np.c_[theta]\n",
    "    \n",
    "    z = X.dot(theta) # X * theta\n",
    "    h = sigmoid(z) # Hypothesis\n",
    "    \n",
    "    grad = (1.0 / m) * (X.T.dot(h - y))\n",
    "    \n",
    "    return grad.flatten()"
   ]
  },
  {
   "cell_type": "code",
   "execution_count": 90,
   "metadata": {},
   "outputs": [],
   "source": [
    "def predict(theta, X, threshold=0.5):\n",
    "    return sigmoid(X.dot(theta)) >= threshold"
   ]
  },
  {
   "cell_type": "code",
   "execution_count": 6,
   "metadata": {},
   "outputs": [
    {
     "name": "stdout",
     "output_type": "stream",
     "text": [
      "Dimensions:  (100, 3)\n",
      "[[34.62365962 78.02469282  0.        ]\n",
      " [30.28671077 43.89499752  0.        ]\n",
      " [35.84740877 72.90219803  0.        ]\n",
      " [60.18259939 86.3085521   1.        ]\n",
      " [79.03273605 75.34437644  1.        ]]\n"
     ]
    }
   ],
   "source": [
    "data = loaddata(\"./data/ex2data1.txt\")"
   ]
  },
  {
   "cell_type": "code",
   "execution_count": 7,
   "metadata": {},
   "outputs": [
    {
     "data": {
      "text/plain": [
       "<matplotlib.legend.Legend at 0x2dc91aee4e0>"
      ]
     },
     "execution_count": 7,
     "metadata": {},
     "output_type": "execute_result"
    },
    {
     "data": {
      "image/png": "[encoded data removed]",
      "text/plain": [
       "<Figure size 432x288 with 1 Axes>"
      ]
     },
     "metadata": {
      "needs_background": "light"
     },
     "output_type": "display_data"
    }
   ],
   "source": [
    "m = data.shape[0] # num of training samples\n",
    "n = data.shape[1] # num of features\n",
    "\n",
    "X = np.c_[np.ones(m), data[:, 0:(n - 1)]]\n",
    "y = np.c_[data[:, n - 1]]\n",
    "\n",
    "admit = y[:, 0] == 1\n",
    "nadmit = np.invert(admit)\n",
    "\n",
    "fig = plt.figure()\n",
    "\n",
    "ax = fig.add_axes([0, 0, 1, 1])\n",
    "ax.set_title(\"Exam 1 vs. Exam 2\")\n",
    "ax.set_xlabel(\"Exam 1 Score\")\n",
    "ax.set_ylabel(\"Exam 2 Score\")\n",
    "ax.scatter(X[admit][:, 1], X[admit][:, 2], s=30, c=\"g\", marker=\"+\", linewidth=1, label=\"Admitted\")\n",
    "ax.scatter(X[nadmit][:, 1], X[nadmit][:, 2], s=30, c=\"r\", marker=\"x\", linewidth=0.8, label=\"Not Admitted\")\n",
    "handles, labels = ax.get_legend_handles_labels()\n",
    "ax.legend(handles, labels)"
   ]
  },
  {
   "cell_type": "code",
   "execution_count": 85,
   "metadata": {},
   "outputs": [
    {
     "name": "stdout",
     "output_type": "stream",
     "text": [
      "Expected Cost of Initial Theta (Zeros):  0.693\n",
      "Actual   Cost of Initial Theta (Zeros):  0.693\n",
      "Expected Gradient of Initial Theta (Zeros): [-0.100 -12.009 -11.263]\n",
      "Actual   Gradient of Initial Theta (Zeros): [-0.100 -12.009 -11.263]\n"
     ]
    }
   ],
   "source": [
    "initial_theta = np.zeros(n)\n",
    "initial_cost = costFunction(initial_theta, X, y)\n",
    "initial_grad = gradient(initial_theta, X, y)\n",
    "\n",
    "print(\"Expected Cost of Initial Theta (Zeros):  0.693\")\n",
    "print(\"Actual   Cost of Initial Theta (Zeros): {0: 5.3f}\".format(initial_cost))\n",
    "print(\"Expected Gradient of Initial Theta (Zeros): [-0.100 -12.009 -11.263]\")\n",
    "print(\"Actual   Gradient of Initial Theta (Zeros): [{0: 5.3f} {1: 5.3f} {2: 5.3f}]\".format(initial_grad[0], initial_grad[1], initial_grad[2]))"
   ]
  },
  {
   "cell_type": "code",
   "execution_count": 99,
   "metadata": {},
   "outputs": [
    {
     "name": "stdout",
     "output_type": "stream",
     "text": [
      "                    Found Regression Model\n",
      "      fun: 0.2034977015894742\n",
      "     jac: array([9.22909509e-09, 1.05007760e-07, 4.90380175e-07])\n",
      " message: 'Local minimum reached (|pg| ~= 0)'\n",
      "    nfev: 36\n",
      "     nit: 17\n",
      "  status: 0\n",
      " success: True\n",
      "       x: array([-25.1613187 ,   0.20623159,   0.20147149])\n",
      "Wall time: 2.97 ms\n"
     ]
    }
   ],
   "source": [
    "%%time\n",
    "initial_theta = np.zeros(n)\n",
    "\n",
    "options = {\n",
    "    \"maxiter\": 400\n",
    "}\n",
    "\n",
    "model = minimize(costFunction, initial_theta, args=(X,y), method=\"TNC\", jac=gradient, options=options)\n",
    "print(\"                    Found Regression Model\\n\", model)"
   ]
  },
  {
   "cell_type": "code",
   "execution_count": 92,
   "metadata": {},
   "outputs": [
    {
     "name": "stdout",
     "output_type": "stream",
     "text": [
      "Expected Chance a Student will be Admitted: 77.50%\n",
      "Actual   Chance a Student will be Admitted: 77.63%\n"
     ]
    }
   ],
   "source": [
    "# Predict if a student with Exam Score 1 of 45 and Exam Score 2 of 85\n",
    "#   be admitted using regression model parameters\n",
    "probability = sigmoid(np.array([1, 45, 85]).dot(model.x.T))\n",
    "\n",
    "print(\"Expected Chance a Student will be Admitted: 77.50%\")\n",
    "print(\"Actual   Chance a Student will be Admitted: {0:5.2f}%\".format(probability * 100))"
   ]
  },
  {
   "cell_type": "code",
   "execution_count": 100,
   "metadata": {},
   "outputs": [
    {
     "name": "stdout",
     "output_type": "stream",
     "text": [
      "Expected Train Accuracy: 89.00%\n",
      "Actual   Train Accuracy: 89.00%\n"
     ]
    }
   ],
   "source": [
    "p = predict(model.x, X)\n",
    "\n",
    "print(\"Expected Train Accuracy: 89.00%\")\n",
    "print(\"Actual   Train Accuracy: {0:5.2f}%\".format(100 * sum(p == y.ravel())/p.size))"
   ]
  }
 ],
 "metadata": {
  "kernelspec": {
   "display_name": "Python 3",
   "language": "python",
   "name": "python3"
  },
  "language_info": {
   "codemirror_mode": {
    "name": "ipython",
    "version": 3
   },
   "file_extension": ".py",
   "mimetype": "text/x-python",
   "name": "python",
   "nbconvert_exporter": "python",
   "pygments_lexer": "ipython3",
   "version": "3.7.0"
  }
 },
 "nbformat": 4,
 "nbformat_minor": 2
}
