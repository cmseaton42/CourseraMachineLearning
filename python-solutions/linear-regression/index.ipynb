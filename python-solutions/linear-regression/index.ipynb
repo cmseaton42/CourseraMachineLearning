{
 "cells": [
  {
   "cell_type": "code",
   "execution_count": 31,
   "metadata": {},
   "outputs": [],
   "source": [
    "# Add Main Libraries to Global Namespace\n",
    "import matplotlib.pyplot as plt\n",
    "import numpy as np\n",
    "\n",
    "# Read in Data File 1\n",
    "raw_data_1 = open(\"./data/ex1data1.txt\")\n",
    "data_1 = np.loadtxt(raw_data_1, delimiter=\",\").astype(\"float\")\n",
    "\n",
    "# Read in Data File 2\n",
    "raw_data_2 = open(\"./data/ex1data2.txt\")\n",
    "data_2 = np.loadtxt(raw_data_2, delimiter=\",\").astype(\"float\")"
   ]
  },
  {
   "cell_type": "code",
   "execution_count": 106,
   "metadata": {
    "scrolled": true
   },
   "outputs": [
    {
     "data": {
      "text/plain": [
       "<matplotlib.collections.PathCollection at 0x2947cd10cf8>"
      ]
     },
     "execution_count": 106,
     "metadata": {},
     "output_type": "execute_result"
    },
    {
     "data": {
      "image/png": "[encoded data removed]",
      "text/plain": [
       "<Figure size 432x288 with 1 Axes>"
      ]
     },
     "metadata": {
      "needs_background": "light"
     },
     "output_type": "display_data"
    }
   ],
   "source": [
    "# Parse Data_1 File\n",
    "\n",
    "# Get Training Data Length\n",
    "m = len(data_1)\n",
    "\n",
    "# Get Training Features\n",
    "X_Unbiased = data_1[:, 0]\n",
    "\n",
    "# Get Training Results\n",
    "Y = data_1[:, 1]\n",
    "\n",
    "# Initialize Plot Object\n",
    "fig = plt.figure()\n",
    "\n",
    "# Generate Plot\n",
    "ax = fig.add_axes([0, 0, 1, 1])\n",
    "ax.set_xlabel(\"Profit in $10,000s\")\n",
    "ax.set_ylabel(\"Population of City in 10,000s\")\n",
    "ax.scatter(X_Unbiased, Y, s=10, c=\"b\", marker=\"o\")"
   ]
  },
  {
   "cell_type": "code",
   "execution_count": 126,
   "metadata": {},
   "outputs": [],
   "source": [
    "# Build Simple Gradient Descent Helper Functions\n",
    "\n",
    "# Define Cost Function\n",
    "def computeCost(X, y, m, theta):\n",
    "    return (0.5 / m) * np.sum((np.matmul(X, theta) - y) ** 2)\n"
   ]
  },
  {
   "cell_type": "code",
   "execution_count": 134,
   "metadata": {},
   "outputs": [
    {
     "name": "stdout",
     "output_type": "stream",
     "text": [
      "  Expected Cost: 32.07\n",
      "Calculated Cost: 32.072733877455676\n"
     ]
    }
   ],
   "source": [
    "# Prep to Run Gradient Descent\n",
    "\n",
    "# Inject Bias Row into Feature Set and Build Column Vectors\n",
    "X = np.array([np.ones(m), X_Unbiased]).transpose()\n",
    "Y = Y.reshape(m, 1)\n",
    "\n",
    "# Initialize Parameters\n",
    "theta = np.zeros((2, 1))\n",
    "\n",
    "# Gradient Descent Options\n",
    "iterations = 1500\n",
    "alpha = 0.01 # learning rate\n",
    "\n",
    "# Print Expected and Calculated Cost\n",
    "initial_cost = computeCost(X, Y, m, theta)\n",
    "\n",
    "print(\"  Expected Cost:\", 32.07)\n",
    "print(\"Calculated Cost:\", initial_cost)"
   ]
  }
 ],
 "metadata": {
  "kernelspec": {
   "display_name": "Python 3",
   "language": "python",
   "name": "python3"
  },
  "language_info": {
   "codemirror_mode": {
    "name": "ipython",
    "version": 3
   },
   "file_extension": ".py",
   "mimetype": "text/x-python",
   "name": "python",
   "nbconvert_exporter": "python",
   "pygments_lexer": "ipython3",
   "version": "3.7.0"
  }
 },
 "nbformat": 4,
 "nbformat_minor": 2
}
